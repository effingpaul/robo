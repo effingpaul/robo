{
 "cells": [
  {
   "cell_type": "code",
   "execution_count": 1,
   "id": "8e07bf36",
   "metadata": {},
   "outputs": [],
   "source": [
    "from robotic import ry"
   ]
  },
  {
   "cell_type": "code",
   "execution_count": 2,
   "id": "059a8ee7",
   "metadata": {},
   "outputs": [
    {
     "data": {
      "text/plain": [
       "0"
      ]
     },
     "execution_count": 2,
     "metadata": {},
     "output_type": "execute_result"
    }
   ],
   "source": [
    "C = ry.Config()\n",
    "C.addFile(ry.raiPath('../rai-robotModels/scenarios/pandaSingle.g'))\n",
    "C.view()"
   ]
  },
  {
   "cell_type": "code",
   "execution_count": 3,
   "id": "582b68ba",
   "metadata": {},
   "outputs": [
    {
     "data": {
      "text/plain": [
       "0"
      ]
     },
     "execution_count": 3,
     "metadata": {},
     "output_type": "execute_result"
    }
   ],
   "source": [
    "obj = C.addFrame('obj','table') \\\n",
    "    .setShape(ry.ST.capsule, size=[1.,.03]) \\\n",
    "    .setColor([1,.5,0])\n",
    "obj.setRelativePose(\"t(-.4 -.4 0.5) \") #d(30 0 1 0) d(45 0 0 1)\n",
    "\n",
    "# set to BOX\n",
    "\n",
    "#obj.setShape(ry.ST.ssBox, size=[.05, .1, 1., .005])\n",
    "#C.view()\n",
    "#C.addFrame('mark','obj') \\\n",
    "#.setShape(ry.ST.marker, size=[.2,.2])#red=x, green=y, blue=z\n",
    "\n",
    "###\n",
    "C.view()"
   ]
  },
  {
   "cell_type": "code",
   "execution_count": 66,
   "id": "d557cf43",
   "metadata": {},
   "outputs": [],
   "source": [
    "komo = ry.KOMO()\n",
    "komo.setConfig(C, True)\n",
    "komo.setTiming(1., 1, 5., 0)\n",
    "komo.addControlObjective([], 0, 1e-0)\n",
    "komo.addObjective([], ry.FS.accumulatedCollisions, [], ry.OT.eq)\n",
    "komo.addObjective([], ry.FS.accumulatedCollisions, [], ry.OT.eq);\n",
    "komo.addObjective([], ry.FS.jointLimits, [], ry.OT.ineq);"
   ]
  },
  {
   "cell_type": "code",
   "execution_count": 199,
   "id": "be8c8a7b",
   "metadata": {},
   "outputs": [],
   "source": [
    "# SIMPLE CYLINDER GRASP\n",
    "komo.addObjective([], ry.FS.positionDiff, ['l_gripper', 'obj'], ry.OT.eq, [1e1]);\n",
    "komo.addObjective([], ry.FS.vectorY, ['l_gripper'], ry.OT.eq, [0,0,1]); #vectorZ works here"
   ]
  },
  {
   "cell_type": "code",
   "execution_count": 109,
   "id": "bccb7b55",
   "metadata": {},
   "outputs": [],
   "source": [
    "# RELAXED ORIENTATION CYLINDER GRASP\n",
    "komo.addObjective([], ry.FS.positionDiff, ['l_gripper', 'obj'], ry.OT.eq, [1e1]);\n",
    "komo.addObjective([], ry.FS.scalarProductXZ, ['l_gripper','obj'], ry.OT.eq, [1e1]);\n",
    "komo.addObjective([], ry.FS.distance, ['l_palm','obj'], ry.OT.ineq, [1e1]);"
   ]
  },
  {
   "cell_type": "code",
   "execution_count": 203,
   "id": "075e63d6",
   "metadata": {},
   "outputs": [],
   "source": [
    "# RELAXED POSITION & ORIENTATION CYLINDER GRASP\n",
    "komo.addObjective([], ry.FS.positionRel, ['l_gripper', 'obj'], ry.OT.eq, [[10,0,0],[0,10,0]]);\n",
    "komo.addObjective([], ry.FS.positionRel, ['l_gripper', 'obj'], ry.OT.ineq, [0,0,10], target=[0,0,0.5]);\n",
    "komo.addObjective([], ry.FS.positionRel, ['l_gripper', 'obj'], ry.OT.ineq, [0,0,-10], target=[0,0,-0.5]);\n",
    "komo.addObjective([], ry.FS.scalarProductXZ, ['l_gripper','obj'], ry.OT.eq, [1e1]);\n",
    "komo.addObjective([], ry.FS.distance, ['l_palm','obj'], ry.OT.ineq, [1e1]);"
   ]
  },
  {
   "cell_type": "code",
   "execution_count": 327,
   "id": "6b8fdc54",
   "metadata": {},
   "outputs": [
    {
     "name": "stdout",
     "output_type": "stream",
     "text": [
      "GRASP ON X AXIS\n"
     ]
    }
   ],
   "source": [
    "# BOX GRASP\n",
    "length_x = obj.getSize()[0] # 0.05\n",
    "length_y = obj.getSize()[1] # 0.1\n",
    "length_z = obj.getSize()[2] # 1…0\n",
    "\n",
    "length_gripper = C.getFrame('l_gripper').getSize() # 0.03\n",
    "komo.addObjective([], ry.FS.distance, ['l_palm','obj'], ry.OT.ineq, [1e1], target=[-0.00]);\n",
    "\n",
    "def ineqSliding(axis):\n",
    "    if (axis == \"x\"): target = [0,0,length_x/2]; factor = [10,0,0]\n",
    "    if (axis == \"y\"): target = [0,0,length_y/2]; factor = [0,10,0]\n",
    "    if (axis == \"z\"): target = [0,0,length_z/2]; factor = [0,0,10]\n",
    "    komo.addObjective([], ry.FS.positionRel, ['l_gripper', 'obj'], ry.OT.ineq, factor, target=target);\n",
    "    komo.addObjective([], ry.FS.positionRel, ['l_gripper', 'obj'], ry.OT.ineq, factor*-1, target=target*-1);\n",
    "\n",
    "if(length_x < length_gripper*2):\n",
    "    komo.addObjective([], ry.FS.positionRel, ['l_gripper', 'obj'], ry.OT.eq, [[10,0,0]]);\n",
    "    \n",
    "    ineqSliding(\"y\")\n",
    "    ineqSliding(\"z\")\n",
    "    \n",
    "    komo.addObjective([], ry.FS.scalarProductXZ, ['l_gripper','obj'], ry.OT.eq, [1e1]);\n",
    "    komo.addObjective([], ry.FS.scalarProductXY, ['l_gripper','obj'], ry.OT.eq, [1e1]);\n",
    "    print(\"GRASP ON X AXIS\")\n",
    "    \n",
    "elif(length_y < length_gripper*2):\n",
    "    komo.addObjective([], ry.FS.positionRel, ['l_gripper', 'obj'], ry.OT.eq, [[0,10,0]]);\n",
    "    \n",
    "    ineqSliding(\"x\")\n",
    "    ineqSliding(\"z\")\n",
    "    \n",
    "    komo.addObjective([], ry.FS.scalarProductXX, ['l_gripper','obj'], ry.OT.eq, [1e1]);\n",
    "    komo.addObjective([], ry.FS.scalarProductXZ, ['l_gripper','obj'], ry.OT.eq, [1e1]);\n",
    "    print(\"GRASP ON Y AXIS\")\n",
    "elif(length_z < length_gripper*2):\n",
    "    \n",
    "    komo.addObjective([], ry.FS.positionRel, ['l_gripper', 'obj'], ry.OT.eq, [[0,0,10]]);\n",
    "    \n",
    "    ineqSliding(\"x\")\n",
    "    ineqSliding(\"y\")\n",
    "    \n",
    "    komo.addObjective([], ry.FS.scalarProductXY, ['l_gripper','obj'], ry.OT.eq, [1e1]);\n",
    "    komo.addObjective([], ry.FS.scalarProductXZ, ['l_gripper','obj'], ry.OT.eq, [1e1]);\n",
    "    print(\"GRASP ON Z AXIS\")\n"
   ]
  },
  {
   "cell_type": "code",
   "execution_count": 12,
   "id": "a60bb4a9",
   "metadata": {},
   "outputs": [],
   "source": [
    "# PUSH\n",
    "length_x = obj.getSize()[0] # 0.05\n",
    "length_y = obj.getSize()[1] # 0.1\n",
    "length_z = obj.getSize()[2] # 1…0\n",
    "# define push vector\n",
    "#push = C.addFrame('mark','obj') \\\n",
    "#    .setShape(ry.ST.marker, size=[.1,.1])\n",
    "#push.setRelativePose(\"t(.5 .5 .5 ) d(90 0 1 0)\")\n",
    "def ineqSliding(axis):\n",
    "    if (axis == \"x\"): target = [0,0,length_x/2]; factor = [10,0,0]\n",
    "    if (axis == \"y\"): target = [0,0,length_y/2]; factor = [0,10,0]\n",
    "    if (axis == \"z\"): target = [0,0,length_z/2]; factor = [0,0,10]\n",
    "    komo.addObjective([], ry.FS.positionRel, ['l_gripper', 'obj'], ry.OT.ineq, factor, target=target);\n",
    "    komo.addObjective([], ry.FS.positionRel, ['l_gripper', 'obj'], ry.OT.ineq, factor*-1, target=target*-1);\n",
    "\n",
    "push = [0,1,0]\n",
    "\n",
    "# define constraints\n",
    "komo = ry.KOMO()\n",
    "komo.setConfig(C, True)\n",
    "komo.setTiming(1., 1, 5., 0)\n",
    "komo.addControlObjective([], 0, 1e-0)\n",
    "komo.addObjective([], ry.FS.accumulatedCollisions, [], ry.OT.eq)\n",
    "komo.addObjective([], ry.FS.accumulatedCollisions, [], ry.OT.eq);\n",
    "komo.addObjective([], ry.FS.jointLimits, [], ry.OT.ineq);\n",
    "\n",
    "komo.addObjective([], ry.FS.positionRel, ['l_gripper', 'obj'], ry.OT.eq, [1], target=);\n",
    "\n",
    "komo.addObjective([], ry.FS.vectorY, ['obj'], ry.OT.eq, [1e1], target = push);\n",
    "\n",
    "# 1. scalarProductXY = 0 AND scalarProductXZ = 0 OR scalarProductXX = 0 AND scalarProductXZ = 0\n",
    "# 2. "
   ]
  },
  {
   "cell_type": "code",
   "execution_count": 13,
   "id": "178e3d42",
   "metadata": {},
   "outputs": [
    {
     "name": "stdout",
     "output_type": "stream",
     "text": [
      "{ time: 0.009313, evals: 23, done: 1, feasible: 0, sos: 1.91765, f: 0, ineq: 3.26352e-05, eq: 20.0002 }====nlp==== method:AugmentedLagrangian bounded: yes\n",
      "==nlp== it:0 evals:0 mu:1 nu:1 muLB:0.1\n",
      "----newton---- initial point f(x):270.23 alpha:1 beta:1\n",
      "--newton-- it:   1  |Delta|:        0.2  alpha:          1  evals:   2  f(y):    252.942  ACCEPT\n",
      "--newton-- it:   2  |Delta|:        0.2  alpha:          1  evals:   3  f(y):    237.523  ACCEPT\n",
      "--newton-- it:   3  |Delta|:        0.2  alpha:          1  evals:   4  f(y):    225.444  ACCEPT\n",
      "--newton-- it:   4  |Delta|:        0.2  alpha:          1  evals:   5  f(y):     215.71  ACCEPT\n",
      "--newton-- it:   5  |Delta|:        0.2  alpha:          1  evals:   6  f(y):    207.484  ACCEPT\n",
      "--newton-- it:   6  |Delta|:        0.2  alpha:          1  evals:   7  f(y):    203.415  ACCEPT\n",
      "--newton-- it:   7  |Delta|:        0.2  alpha:          1  evals:   8  f(y):    202.432  ACCEPT\n",
      "--newton-- it:   8  |Delta|:        0.2  alpha:          1  evals:   9  f(y):    202.088  ACCEPT\n",
      "--newton-- it:   9  |Delta|:   0.185522  alpha:          1  evals:  10  f(y):    201.889  ACCEPT\n",
      "--newton-- it:  10  |Delta|:   0.105902  alpha:          1  evals:  11 \n",
      " f(y):    201.819  ACCEPT\n",
      "--newton-- it:  11  |Delta|:  0.0551825  alpha:          1  evals:  12  f(y):    201.798  ACCEPT\n",
      "--newton-- it:  12  |Delta|:   0.029571  alpha:          1  evals:  13  f(y):    201.792  ACCEPT\n",
      "--newton-- stopping: 'absMax(Delta)<options.stopTolerance'\n",
      "==nlp== it:   0  evals:  13  A(x):    201.792  f:     1.7562  g:   0.247718  h:    20.1286  |x-x'|:   0.895863 \tstop:DeltaConverge\n",
      "==nlp== it:   1  evals:  13  A(x):    1402.01  mu:5\n",
      "--newton-- it:  13  |Delta|:  0.0337356  alpha:          1  evals:  14  f(y):    1201.84  ACCEPT\n",
      "--newton-- it:  14  |Delta|:  0.0153996  alpha:          1  evals:  15  f(y):    1201.84  ACCEPT\n",
      "--newton-- it:  15  |Delta|:  0.0042904  alpha:          1  evals:  16  f(y):    1201.84  ACCEPT\n",
      "--newton-- stopping: 'absMax(Delta)<options.stopTolerance'\n",
      "==nlp== it:   1  evals:  16  A(x):    1201.84  f:    1.82223  g:  0.0100487  h:    20.0585  |x-x'|:  0.0411456 \tstop:DeltaConverge\n",
      "==nlp== it:   2  evals:  16  A(x):    7201.93  mu:25\n",
      "--newton-- it:  16  |Delta|:  0.0734881  alpha:          1  evals:  17  f(y):    5201.89  ACCEPT\n",
      "--newton-- it:  17  |Delta|:  0.0110466  alpha:          1  evals:  18  f(y):    5201.89  ACCEPT\n",
      "--newton-- it:  18  |Delta|: 0.00334982  alpha:          1  evals:  19  f(y):    5201.89  ACCEPT\n",
      "--newton-- stopping: 'absMax(Delta)<options.stopTolerance'\n",
      "==nlp== it:   2  evals:  19  A(x):    5201.89  f:    1.85927  g: 0.00274032  h:    20.0262  |x-x'|:  0.0820727 \tstop:DeltaConverge\n",
      "==nlp== it:   3  evals:  19  A(x):      35202  mu:125\n",
      "--newton-- it:  19  |Delta|:  0.0584497  alpha:          1  evals:  20  f(y):    25201.9  ACCEPT\n",
      "--newton-- it:  20  |Delta|: 0.00890886  alpha:          1  evals:  21  f(y):    25201.9  ACCEPT\n",
      "--newton-- stopping: 'absMax(Delta)<options.stopTolerance'\n",
      "==nlp== it:   3  evals:  21  A(x):    25201.9  f:    1.90805  g:0.000557576  h:     20.004  |x-x'|:  0.0630174 \tstop:DeltaConverge\n",
      "==nlp== it:   4  evals:  21  A(x):     175202  mu:625\n",
      "--newton-- it:  21  |Delta|:  0.0102094  alpha:          1  evals:  22  f(y):     125202  ACCEPT\n",
      "--newton-- it:  22  |Delta|: 0.00191345  alpha:          1  evals:  23  f(y):     125202  ACCEPT\n",
      "--newton-- stopping: 'absMax(Delta)<options.stopTolerance'\n",
      "==nlp== it:   4  evals:  23  A(x):     125202  f:    1.91765  g:3.26352e-05  h:    20.0002  |x-x'|:  0.0111199 \tstop:DeltaConverge\n",
      "==nlp== it:   5  evals:  23  A(x):     875202  mu:3125\n",
      "--newton-- it:  23  |Delta|:0.000473529 \t -- absMax(Delta)<1e-1*o.stopTolerance -- NO UPDATE\n",
      "==nlp== it:   5  evals:  23  A(x):     875202  f:    1.91765  g:3.26352e-05  h:    20.0002  |x-x'|:          0 \tstop:DeltaConverge\n",
      "==nlp== StoppingCriterion Delta<0.01\n",
      "----newton---- final f(x):875202\n"
     ]
    }
   ],
   "source": [
    "ret = ry.NLP_Solver() \\\n",
    "    .setProblem(komo.nlp()) \\\n",
    "    .setOptions( stopTolerance=1e-2, verbose=4 ) \\\n",
    "    .solve()\n",
    "print(ret)"
   ]
  },
  {
   "cell_type": "code",
   "execution_count": 14,
   "id": "b727e37c",
   "metadata": {},
   "outputs": [
    {
     "data": {
      "text/plain": [
       "0"
      ]
     },
     "execution_count": 14,
     "metadata": {},
     "output_type": "execute_result"
    }
   ],
   "source": [
    "komo.view(False, \"IK solution\")"
   ]
  },
  {
   "cell_type": "code",
   "execution_count": 85,
   "id": "5adc15f8",
   "metadata": {},
   "outputs": [],
   "source": [
    "q = komo.getPath()\n",
    "print(type(q), len(q))"
   ]
  },
  {
   "cell_type": "code",
   "execution_count": 86,
   "id": "b20fc581",
   "metadata": {},
   "outputs": [],
   "source": [
    "C.setJointState(q[0])\n",
    "C.view()"
   ]
  },
  {
   "cell_type": "code",
   "execution_count": null,
   "id": "4646820d",
   "metadata": {},
   "outputs": [],
   "source": [
    "del komo\n",
    "del C"
   ]
  },
  {
   "cell_type": "code",
   "execution_count": null,
   "id": "d13de510",
   "metadata": {},
   "outputs": [],
   "source": []
  }
 ],
 "metadata": {
  "kernelspec": {
   "display_name": "Python 3 (ipykernel)",
   "language": "python",
   "name": "python3"
  },
  "language_info": {
   "codemirror_mode": {
    "name": "ipython",
    "version": 3
   },
   "file_extension": ".py",
   "mimetype": "text/x-python",
   "name": "python",
   "nbconvert_exporter": "python",
   "pygments_lexer": "ipython3",
   "version": "3.8.10"
  }
 },
 "nbformat": 4,
 "nbformat_minor": 5
}
