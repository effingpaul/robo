{
 "cells": [
  {
   "cell_type": "markdown",
   "metadata": {},
   "source": [
    "# 1. Example to grap images from a webcam\n",
    "(but this only gives you an rgb, not depth)\n",
    "hit 'q' in the window to stop"
   ]
  },
  {
   "cell_type": "code",
   "execution_count": 1,
   "metadata": {},
   "outputs": [],
   "source": []
  },
  {
   "cell_type": "code",
   "execution_count": 2,
   "metadata": {
    "scrolled": false
   },
   "outputs": [
    {
     "name": "stderr",
     "output_type": "stream",
     "text": [
      "[ WARN:0@0.747] global cap_v4l.cpp:982 open VIDEOIO(V4L2:/dev/video0): can't open camera by index\n",
      "[ERROR:0@0.747] global obsensor_uvc_stream_channel.cpp:156 getStreamChannelGroup Camera index out of range\n"
     ]
    },
    {
     "ename": "TypeError",
     "evalue": "object of type 'NoneType' has no len()",
     "output_type": "error",
     "traceback": [
      "\u001b[0;31m---------------------------------------------------------------------------\u001b[0m",
      "\u001b[0;31mTypeError\u001b[0m                                 Traceback (most recent call last)",
      "Cell \u001b[0;32mIn[2], line 9\u001b[0m\n\u001b[1;32m      6\u001b[0m img \u001b[38;5;241m=\u001b[39m frame\n\u001b[1;32m      7\u001b[0m \u001b[38;5;66;03m#img = cv.cvtColor(frame, cv.COLOR_BGR2GRAY)\u001b[39;00m\n\u001b[1;32m      8\u001b[0m \u001b[38;5;66;03m# Display the resulting frame\u001b[39;00m\n\u001b[0;32m----> 9\u001b[0m \u001b[38;5;28;01mif\u001b[39;00m \u001b[38;5;28mlen\u001b[39m(frame)\u001b[38;5;241m>\u001b[39m\u001b[38;5;241m0\u001b[39m: cv\u001b[38;5;241m.\u001b[39mimshow(\u001b[38;5;124m'\u001b[39m\u001b[38;5;124mimg\u001b[39m\u001b[38;5;124m'\u001b[39m, img)\n\u001b[1;32m     10\u001b[0m \u001b[38;5;28;01mif\u001b[39;00m cv\u001b[38;5;241m.\u001b[39mwaitKey(\u001b[38;5;241m1\u001b[39m) \u001b[38;5;241m&\u001b[39m \u001b[38;5;241m0xFF\u001b[39m \u001b[38;5;241m==\u001b[39m \u001b[38;5;28mord\u001b[39m(\u001b[38;5;124m'\u001b[39m\u001b[38;5;124mq\u001b[39m\u001b[38;5;124m'\u001b[39m):\n\u001b[1;32m     11\u001b[0m     \u001b[38;5;28;01mbreak\u001b[39;00m\n",
      "\u001b[0;31mTypeError\u001b[0m: object of type 'NoneType' has no len()"
     ]
    }
   ],
   "source": []
  },
  {
   "cell_type": "code",
   "execution_count": 3,
   "metadata": {},
   "outputs": [],
   "source": []
  },
  {
   "cell_type": "markdown",
   "metadata": {},
   "source": [
    "# 2. Color based patch segmentation"
   ]
  },
  {
   "cell_type": "code",
   "execution_count": null,
   "metadata": {},
   "outputs": [],
   "source": [
    "import os\n",
    "os._exit(0)"
   ]
  },
  {
   "cell_type": "code",
   "execution_count": 24,
   "metadata": {},
   "outputs": [
    {
     "name": "stdout",
     "output_type": "stream",
     "text": [
      "4.7.0\n"
     ]
    }
   ],
   "source": [
    "import cv2 as cv\n",
    "import numpy as np\n",
    "from robotic import ry\n",
    "import time\n",
    "print(cv.__version__)"
   ]
  },
  {
   "cell_type": "code",
   "execution_count": 91,
   "metadata": {},
   "outputs": [
    {
     "data": {
      "text/plain": [
       "0"
      ]
     },
     "execution_count": 91,
     "metadata": {},
     "output_type": "execute_result"
    }
   ],
   "source": [
    "C = ry.Config()\n",
    "C.addFile(ry.raiPath('../rai-robotModels/scenarios/pandasTable.g'))\n",
    "\n",
    "obj = C.addFrame('obj')\n",
    "obj.setPose('t(0. 0.1 0.8)')\n",
    "obj.setShape(ry.ST.ssBox, size=[.05,.05,.05,.005])\n",
    "obj.setColor([1,.0,0])\n",
    "obj.setMass(.1)\n",
    "obj.setContact(True)\n",
    "C.view()"
   ]
  },
  {
   "cell_type": "code",
   "execution_count": 92,
   "metadata": {},
   "outputs": [],
   "source": [
    "bot = ry.BotOp(C, False)\n",
    "bot.home(C)"
   ]
  },
  {
   "cell_type": "code",
   "execution_count": 93,
   "metadata": {},
   "outputs": [
    {
     "name": "stdout",
     "output_type": "stream",
     "text": [
      "[rai] bot.cpp:getCameraFxypxy:309(0) creating camera sensor 'camera'\n",
      "[322.19998169 322.19998169 320.         180.        ]\n"
     ]
    }
   ],
   "source": [
    "fxypxy = bot.getCameraFxypxy(\"camera\")\n",
    "print(fxypxy)\n",
    "cameraFrame = C.getFrame(\"camera\")"
   ]
  },
  {
   "cell_type": "code",
   "execution_count": 94,
   "metadata": {},
   "outputs": [
    {
     "name": "stdout",
     "output_type": "stream",
     "text": [
      "(316, 276)\n",
      "(316, 276)\n",
      "(316, 276)\n",
      "(316, 276)\n",
      "(316, 276)\n",
      "(316, 276)\n",
      "(316, 276)\n",
      "(316, 276)\n",
      "(316, 276)\n",
      "(316, 276)\n",
      "(316, 276)\n",
      "(316, 276)\n",
      "(316, 276)\n",
      "(316, 276)\n",
      "(316, 276)\n",
      "(316, 276)\n",
      "(316, 276)\n",
      "(316, 276)\n",
      "(316, 276)\n",
      "(316, 276)\n",
      "(316, 276)\n",
      "(316, 276)\n",
      "(316, 276)\n",
      "(316, 276)\n",
      "(316, 276)\n",
      "(316, 276)\n",
      "(316, 276)\n",
      "(316, 276)\n",
      "(316, 276)\n",
      "(316, 276)\n"
     ]
    }
   ],
   "source": [
    "points = []\n",
    "tau = .01\n",
    "\n",
    "for t in range(30):\n",
    "    time.sleep(0.1)\n",
    "\n",
    "    #grab sensor readings from the simulation\n",
    "    [rgb, depth] = bot.getImageAndDepth('camera')  #we don't need images with 100Hz, rendering is slow\n",
    "            \n",
    "    if len(rgb)>0:\n",
    "        color = cv.cvtColor(rgb, cv.COLOR_BGR2RGB)\n",
    "        #cv.imshow('OPENCV - rgb', color)\n",
    "        \n",
    "        # find redish pixel\n",
    "        color_HSV = cv.cvtColor(color, cv.COLOR_BGR2HSV)\n",
    "        result = color_HSV.copy()\n",
    "        lower1 = np.array([0,15,10])\n",
    "        upper1 = np.array([30,255,255])\n",
    "        mask1 = cv.inRange(color_HSV, lower1, upper1)\n",
    "        \n",
    "        lower2 = np.array([330,15,10])\n",
    "        upper2 = np.array([360,255,255])\n",
    "        mask2 = cv.inRange(color_HSV, lower2, upper2)\n",
    "        \n",
    "        # display binary mask\n",
    "        result[np.where(mask1==0) and np.where(mask2==0)] = 0\n",
    "        result[np.where(mask1!=0) or  np.where(mask2!=0)] = 255\n",
    "        cv.imshow('OPENCV - binary mask', result)\n",
    "        \n",
    "        # segementation\n",
    "        imgray = cv.cvtColor(result, cv.COLOR_BGR2GRAY)\n",
    "        contours, _ = cv.findContours(imgray, cv.RETR_TREE, cv.CHAIN_APPROX_SIMPLE)\n",
    "        \n",
    "        # display segements\n",
    "        cv.imshow('OPENCV - rgb contours', cv.drawContours(color, contours, -1, (0,255,0), 1))\n",
    "        \n",
    "        # print center of segment\n",
    "        for c in contours:\n",
    "            #if cv.contourArea(c) <= 50 :\n",
    "            #    continue    \n",
    "            x,y,w,h = cv.boundingRect(c)\n",
    "            center = (x,y)\n",
    "            print (center)\n",
    "    \n",
    "    #if len(depth)>0: cv.imshow('OPENCV - depth', 0.5* depth)\n",
    "\n",
    "    if cv.waitKey(1) & 0xFF == ord('q'):\n",
    "        break\n",
    "        \n",
    "    bot.sync(C)"
   ]
  },
  {
   "cell_type": "code",
   "execution_count": 95,
   "metadata": {},
   "outputs": [
    {
     "name": "stdout",
     "output_type": "stream",
     "text": [
      "[rai] bot.cpp:~BotOp:87(0) shutting down BotOp\n",
      "[rai] simulation.cpp:~BotThreadedSim:60(0) shutting down SimThread\n",
      "[rai] simulation.cpp:~Simulation:153(0) shutting down Simulation\n"
     ]
    }
   ],
   "source": [
    "cv.destroyAllWindows()\n",
    "del bot\n",
    "del C"
   ]
  },
  {
   "cell_type": "markdown",
   "metadata": {},
   "source": [
    "# 3. example to use multiple camera attached to different robot frames"
   ]
  },
  {
   "cell_type": "code",
   "execution_count": null,
   "metadata": {},
   "outputs": [],
   "source": [
    "import os\n",
    "os._exit(0)"
   ]
  },
  {
   "cell_type": "code",
   "execution_count": 13,
   "metadata": {},
   "outputs": [],
   "source": [
    "from robotic import ry\n",
    "import numpy as np"
   ]
  },
  {
   "cell_type": "code",
   "execution_count": 14,
   "metadata": {},
   "outputs": [],
   "source": [
    "C = ry.Config()\n",
    "C.addFile(ry.raiPath('../rai-robotModels/scenarios/pandasTable.g'))\n",
    "# change the position of the central sensor\n",
    "f = C.frame(\"camera\")\n",
    "f.setPosition(f.getPosition()+[0,0,.5])\n",
    "# add a frame for the additional camera\n",
    "f = C.addFrame(\"r_gripperCamera\", \"r_gripper\")\n",
    "f.setShape(ry.ST.camera, [.1])\n",
    "f.addAttributes({'focalLength':0.895, 'width':640., 'height':360.})"
   ]
  },
  {
   "cell_type": "code",
   "execution_count": 15,
   "metadata": {},
   "outputs": [],
   "source": [
    "bot = ry.BotOp(C, False)\n",
    "bot.home(C)"
   ]
  },
  {
   "cell_type": "code",
   "execution_count": 16,
   "metadata": {},
   "outputs": [
    {
     "name": "stdout",
     "output_type": "stream",
     "text": [
      "[rai] bot.cpp:getImageAndDepth:294(0) creating camera sensor 'camera'\n"
     ]
    }
   ],
   "source": [
    "img, _ = bot.getImageAndDepth('camera')"
   ]
  },
  {
   "cell_type": "code",
   "execution_count": 17,
   "metadata": {},
   "outputs": [
    {
     "name": "stdout",
     "output_type": "stream",
     "text": [
      "[rai] bot.cpp:getImageAndDepth:294(0) creating camera sensor 'r_gripperCamera'\n"
     ]
    }
   ],
   "source": [
    "img, _ = bot.getImageAndDepth('r_gripperCamera')"
   ]
  },
  {
   "cell_type": "code",
   "execution_count": 18,
   "metadata": {},
   "outputs": [
    {
     "name": "stdout",
     "output_type": "stream",
     "text": [
      "[rai] bot.cpp:~BotOp:87(0) shutting down BotOp\n",
      "[rai] simulation.cpp:~BotThreadedSim:60(0) shutting down SimThread\n",
      "[rai] simulation.cpp:~Simulation:153(0) shutting down Simulation\n"
     ]
    }
   ],
   "source": [
    "del bot\n",
    "del C"
   ]
  },
  {
   "cell_type": "code",
   "execution_count": null,
   "metadata": {},
   "outputs": [],
   "source": []
  }
 ],
 "metadata": {
  "kernelspec": {
   "display_name": "Python 3 (ipykernel)",
   "language": "python",
   "name": "python3"
  },
  "language_info": {
   "codemirror_mode": {
    "name": "ipython",
    "version": 3
   },
   "file_extension": ".py",
   "mimetype": "text/x-python",
   "name": "python",
   "nbconvert_exporter": "python",
   "pygments_lexer": "ipython3",
   "version": "3.8.10"
  }
 },
 "nbformat": 4,
 "nbformat_minor": 4
}
