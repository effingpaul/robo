{
 "cells": [
  {
   "cell_type": "code",
   "execution_count": 1,
   "id": "97088a7b",
   "metadata": {},
   "outputs": [],
   "source": [
    "from robotic import ry\n",
    "import numpy as np\n",
    "import time"
   ]
  },
  {
   "cell_type": "code",
   "execution_count": 2,
   "id": "ea930fba",
   "metadata": {},
   "outputs": [
    {
     "name": "stdout",
     "output_type": "stream",
     "text": [
      "[rai] ry.cpp:operator():91(0) python,\n",
      "physx/motorKp: 10000,\n",
      "physx/motorKd: 1000\n"
     ]
    }
   ],
   "source": [
    "ry.params_add({'physx/motorKp': 10000., 'physx/motorKd': 1000.})\n",
    "ry.params_print()"
   ]
  },
  {
   "cell_type": "code",
   "execution_count": 3,
   "id": "44db23a8",
   "metadata": {},
   "outputs": [
    {
     "data": {
      "text/plain": [
       "0"
      ]
     },
     "execution_count": 3,
     "metadata": {},
     "output_type": "execute_result"
    }
   ],
   "source": [
    "C = ry.Config()\n",
    "C.addFile(ry.raiPath('../rai-robotModels/scenarios/pandaSingle.g'))\n",
    "C.view(False)"
   ]
  },
  {
   "cell_type": "code",
   "execution_count": 4,
   "id": "efd02145",
   "metadata": {},
   "outputs": [
    {
     "data": {
      "text/plain": [
       "0"
      ]
     },
     "execution_count": 4,
     "metadata": {},
     "output_type": "execute_result"
    }
   ],
   "source": [
    "C.addFrame('box') \\\n",
    "    .setPosition([-.25,.1,.675]) \\\n",
    "    .setShape(ry.ST.ssBox, size=[.05,.05,.05,.005]) \\\n",
    "    .setColor([1,.5,0]) \\\n",
    "    .setMass(.1) \\\n",
    "    .setContact(True)\n",
    "C.view()"
   ]
  },
  {
   "cell_type": "code",
   "execution_count": 5,
   "id": "9588750e",
   "metadata": {},
   "outputs": [],
   "source": [
    "# WAYPOINT ENGINEERING:\n",
    "# manually define frames as an endeff waypoints, relative to box:\n",
    "way0 = C.addFrame('way0', 'box')\n",
    "way1 = C.addFrame('way1', 'box')"
   ]
  },
  {
   "cell_type": "code",
   "execution_count": 6,
   "id": "8f6639cc",
   "metadata": {},
   "outputs": [
    {
     "data": {
      "text/plain": [
       "0"
      ]
     },
     "execution_count": 6,
     "metadata": {},
     "output_type": "execute_result"
    }
   ],
   "source": [
    "way0.setShape(ry.ST.marker, size=[.1])\n",
    "way0.setRelativePose('t(0 0 .1) d(90 0 0 1)')\n",
    "\n",
    "way1.setShape(ry.ST.marker, size=[.1])\n",
    "way1.setRelativePose('d(90 0 0 1)')\n",
    "\n",
    "C.view()"
   ]
  },
  {
   "cell_type": "code",
   "execution_count": 7,
   "id": "8b4b9f76",
   "metadata": {},
   "outputs": [],
   "source": [
    "# define a 2 waypoint problem in KOMO\n",
    "komo = ry.KOMO()\n",
    "komo.setConfig(C, True)\n",
    "komo.setTiming(2., 1, 5., 0)\n",
    "komo.addControlObjective([], 0, 1e-0)\n",
    "komo.addObjective([], ry.FS.accumulatedCollisions, [], ry.OT.eq);\n",
    "komo.addObjective([], ry.FS.jointLimits, [], ry.OT.ineq);\n",
    "komo.addObjective([1.], ry.FS.poseDiff, ['l_gripper', 'way0'], ry.OT.eq, [1e1]);\n",
    "komo.addObjective([2.], ry.FS.poseDiff, ['l_gripper', 'way1'], ry.OT.eq, [1e1]);"
   ]
  },
  {
   "cell_type": "code",
   "execution_count": 8,
   "id": "c918d324",
   "metadata": {},
   "outputs": [
    {
     "name": "stdout",
     "output_type": "stream",
     "text": [
      "====nlp==== method:AugmentedLagrangian bounded: yes\n",
      "==nlp== it:0 evals:0 mu:1 nu:1 muLB:0.1\n",
      "----newton---- initial point f(x):93.1593 alpha:1 beta:1\n",
      "--newton-- it:   1  |Delta|:        0.2  alpha:          1  evals:   2  f(y):    69.6169  ACCEPT\n",
      "--newton-- it:   2  |Delta|:        0.2  alpha:          1  evals:   3  f(y):    47.7566  ACCEPT\n",
      "--newton-- it:   3  |Delta|:        0.2  alpha:          1  evals:   4  f(y):    28.1096  ACCEPT\n",
      "--newton-- it:   4  |Delta|:        0.2  alpha:          1  evals:   5  f(y):    11.4588  ACCEPT\n",
      "--newton-- it:   5  |Delta|:        0.2  alpha:          1  evals:   6  f(y):    6.02281  ACCEPT\n",
      "--newton-- it:   6  |Delta|:        0.2  alpha:          1  evals:   7  f(y):     4.0943  ACCEPT\n",
      "--newton-- it:   7  |Delta|:   0.170104  alpha:          1  evals:   8  f(y):    3.57494  ACCEPT\n",
      "--newton-- it:   8  |Delta|:  0.0579509  alpha:          1  evals:   9  f(y):    3.52862  ACCEPT\n",
      "--newton-- it:   9  |Delta|:  0.0238862  alpha:          1  evals:  10  f(y):    3.52229  ACCEPT\n",
      "--newton-- stopping: 'absMax(Delta)<options.stopTolerance'\n",
      "==nlp== it:   0  evals:  10  A(x):    3.52229  f:    2.94215  g:          0  h:    2.24621  |x-x'|:   0.750159 \tstop:DeltaConverge\n",
      "==nlp== it:   1  evals:  10  A(x):    7.00314  mu:5\n",
      "--newton-- it:  10  |Delta|:        0.2  alpha:          1  evals:  11  f(y):     4.5031  ACCEPT\n",
      "--newton-- it:  11  |Delta|:    0.10763  alpha:          1  evals:  12  f(y):    4.34517  ACCEPT\n",
      "--newton-- it:  12  |Delta|:  0.0250832  alpha:          1  evals:  13  f(y):    4.33636  ACCEPT\n",
      "--newton-- it:  13  |Delta|:  0.0132012  alpha:          1  evals:  14  f(y):    4.33499  ACCEPT\n",
      "--newton-- it:  14  |Delta|: 0.00671988  alpha:          1  evals:  15  f(y):    4.33466  ACCEPT\n",
      "--newton-- stopping: 'absMax(Delta)<options.stopTolerance'\n",
      "==nlp== it:   1  evals:  15  A(x):    4.33466  f:    4.20162  g:          0  h:   0.211307  |x-x'|:   0.219168 \tstop:DeltaConverge\n",
      "==nlp== it:   2  evals:  15  A(x):    4.53258  mu:25\n",
      "--newton-- it:  15  |Delta|:  0.0376555  alpha:          1  evals:  16  f(y):    4.37467  ACCEPT\n",
      "--newton-- it:  16  |Delta|: 0.00825317  alpha:          1  evals:  17  f(y):    4.37395  ACCEPT\n",
      "--newton-- stopping: 'absMax(Delta)<options.stopTolerance'\n",
      "==nlp== it:   2  evals:  17  A(x):    4.37395  f:    4.36729  g:          0  h: 0.00768814  |x-x'|:  0.0459086 \tstop:DeltaConverge\n",
      "==nlp== it:   3  evals:  17  A(x):    4.37595  mu:125\n",
      "--newton-- it:  17  |Delta|: 0.00476621  alpha:          1  evals:  18  f(y):     4.3742  ACCEPT\n",
      "--newton-- stopping: 'absMax(Delta)<options.stopTolerance'\n",
      "==nlp== it:   3  evals:  18  A(x):     4.3742  f:    4.37426  g:          0  h:0.000145596  |x-x'|: 0.00476621 \tstop:DeltaConverge\n",
      "==nlp== StoppingCriterion Delta<0.01\n",
      "----newton---- final f(x):4.3742\n",
      "{ time: 0.007595, evals: 18, done: 1, feasible: 1, sos: 4.37426, f: 0, ineq: 0, eq: 0.000145596 }\n"
     ]
    }
   ],
   "source": [
    "ret = ry.NLP_Solver() \\\n",
    "    .setProblem(komo.nlp()) \\\n",
    "    .setOptions( stopTolerance=1e-2, verbose=4 ) \\\n",
    "    .solve()\n",
    "print(ret)"
   ]
  },
  {
   "cell_type": "code",
   "execution_count": 9,
   "id": "cbd1ce1f",
   "metadata": {},
   "outputs": [
    {
     "data": {
      "text/plain": [
       "0"
      ]
     },
     "execution_count": 9,
     "metadata": {},
     "output_type": "execute_result"
    }
   ],
   "source": [
    "komo.view(False, \"waypoints solution\")"
   ]
  },
  {
   "cell_type": "code",
   "execution_count": 10,
   "id": "cac1ad27",
   "metadata": {},
   "outputs": [],
   "source": [
    "komo.view_close()\n",
    "path = komo.getPath()"
   ]
  },
  {
   "cell_type": "code",
   "execution_count": 11,
   "id": "e00a421c",
   "metadata": {},
   "outputs": [],
   "source": [
    "bot = ry.BotOp(C, False)\n",
    "bot.home(C)"
   ]
  },
  {
   "cell_type": "code",
   "execution_count": 12,
   "id": "86f9f8c2",
   "metadata": {},
   "outputs": [],
   "source": [
    "bot.home(C)"
   ]
  },
  {
   "cell_type": "code",
   "execution_count": 13,
   "id": "00a01c01",
   "metadata": {},
   "outputs": [],
   "source": [
    "bot.gripperOpen(ry._left)\n",
    "while not bot.gripperDone(ry._left):\n",
    "    bot.sync(C, .1)"
   ]
  },
  {
   "cell_type": "code",
   "execution_count": 14,
   "id": "6a4303a4",
   "metadata": {},
   "outputs": [],
   "source": [
    "bot.move(path, [2., 3.])\n",
    "while bot.getTimeToEnd()>0:\n",
    "    bot.sync(C, .1)"
   ]
  },
  {
   "cell_type": "code",
   "execution_count": 15,
   "id": "f7e3a9d9",
   "metadata": {},
   "outputs": [],
   "source": [
    "bot.gripperClose(ry._left)\n",
    "while not bot.gripperDone(ry._left):\n",
    "    bot.sync(C, .1)"
   ]
  },
  {
   "cell_type": "code",
   "execution_count": 16,
   "id": "ddad80d8",
   "metadata": {},
   "outputs": [],
   "source": [
    "bot.home(C)"
   ]
  },
  {
   "cell_type": "code",
   "execution_count": 17,
   "id": "e219ea7d",
   "metadata": {},
   "outputs": [],
   "source": [
    "bot.gripperOpen(ry._left)\n",
    "while not bot.gripperDone(ry._left):\n",
    "    bot.sync(C, .1)"
   ]
  },
  {
   "cell_type": "code",
   "execution_count": 18,
   "id": "c665847d",
   "metadata": {},
   "outputs": [
    {
     "name": "stdout",
     "output_type": "stream",
     "text": [
      "[rai] bot.cpp:~BotOp:87(0) shutting down BotOp\n",
      "[rai] simulation.cpp:~BotThreadedSim:60(0) shutting down SimThread\n",
      "[rai] simulation.cpp:~Simulation:153(0) shutting down Simulation\n"
     ]
    }
   ],
   "source": [
    "del bot"
   ]
  },
  {
   "cell_type": "code",
   "execution_count": 19,
   "id": "ecc1c120",
   "metadata": {},
   "outputs": [],
   "source": [
    "del C"
   ]
  },
  {
   "cell_type": "code",
   "execution_count": null,
   "id": "5b96e8e6",
   "metadata": {},
   "outputs": [],
   "source": []
  }
 ],
 "metadata": {
  "kernelspec": {
   "display_name": "Python 3 (ipykernel)",
   "language": "python",
   "name": "python3"
  },
  "language_info": {
   "codemirror_mode": {
    "name": "ipython",
    "version": 3
   },
   "file_extension": ".py",
   "mimetype": "text/x-python",
   "name": "python",
   "nbconvert_exporter": "python",
   "pygments_lexer": "ipython3",
   "version": "3.8.10"
  }
 },
 "nbformat": 4,
 "nbformat_minor": 5
}
